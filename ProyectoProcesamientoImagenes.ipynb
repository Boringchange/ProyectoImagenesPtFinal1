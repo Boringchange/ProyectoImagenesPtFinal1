{
 "cells": [
  {
   "metadata": {},
   "cell_type": "markdown",
   "source": [
    "# Proyecto: \"Procesamiento de Imagenes\"\n",
    "\n",
    "En este documento se verá la documentación del codigo para la aplicación \"Procesamiento de Imagenes\".\n",
    "\n",
    "Se análizaran las clases:\n",
    "\n",
    "\"ProcesamientoImagenesUIMain.py\"\n",
    "\n",
    "\"ProcesamientoImagenes.py\""
   ],
   "id": "fd832d6684db3f51"
  },
  {
   "metadata": {},
   "cell_type": "code",
   "outputs": [],
   "execution_count": null,
   "source": "",
   "id": "65602748ec0546e8"
  }
 ],
 "metadata": {
  "kernelspec": {
   "display_name": "Python 3",
   "language": "python",
   "name": "python3"
  },
  "language_info": {
   "codemirror_mode": {
    "name": "ipython",
    "version": 2
   },
   "file_extension": ".py",
   "mimetype": "text/x-python",
   "name": "python",
   "nbconvert_exporter": "python",
   "pygments_lexer": "ipython2",
   "version": "2.7.6"
  }
 },
 "nbformat": 4,
 "nbformat_minor": 5
}
